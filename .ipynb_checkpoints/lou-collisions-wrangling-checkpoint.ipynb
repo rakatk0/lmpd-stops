{
 "cells": [
  {
   "cell_type": "markdown",
   "metadata": {},
   "source": [
    "## How to do some GIS using Geopandas: \n",
    "#### An introduction for novices, by a novice. \n",
    "***Purpose:*** To showcase a clean Jupyter notebook that outputs webmap-ready data (GeoJSON).  This notebook will incorporate Geopandas, and a variety of other Python libraries to import, wrangle, analyze, and export data within a typical data-viz and mapping workflow."
   ]
  },
  {
   "cell_type": "markdown",
   "metadata": {},
   "source": [
    "###### Created by Ritchie Katko (rakatk0@uky.edu) for [UKy Geography's New Maps Plus](http://newmapsplus.uky.edu/) MAP675 "
   ]
  },
  {
   "cell_type": "markdown",
   "metadata": {},
   "source": [
    "##### Objective: \n"
   ]
  },
  {
   "cell_type": "markdown",
   "metadata": {},
   "source": [
    "#### Setting up the environment\n",
    "Here's my background specs: \n",
    "- ***OS***: Ubuntu 16.04.6 LTS\n",
    "- ***Python version***: `$ /usr/bin/python3 -V` 3.5.2\n",
    "- ***Anaconda3 version***: `$ conda info` 4.5.11\n",
    "\n",
    "###### Conda Environment \n",
    "The following packages must be installed (`$ conda install`) into the active Conda environment:\n",
    "- `Jupyter` (allows use of jupyter coding environment\n",
    "- `Geopandas` (integrates other packages geospatial components) \n",
    "- `Matplotlib` (dataviz package - allows plotting of visualizations)\n",
    "\n",
    "##### after activating the Conda Environment of choice, navigate to the working directory and run `jupyter notebook` to initiate the browser-based notebook environment.  \n",
    "\n",
    "##### Now, let's get to work: "
   ]
  },
  {
   "cell_type": "markdown",
   "metadata": {},
   "source": [
    "##### Add packages to allow for their use in this environment"
   ]
  },
  {
   "cell_type": "code",
   "execution_count": 1,
   "metadata": {},
   "outputs": [],
   "source": [
    "# import packages, using aliases to simplify code\n",
    "import pandas as pd\n",
    "import numpy as np\n",
    "import geopandas as gpd\n",
    "from shapely.geometry import Point, Polygon, MultiPolygon, mapping\n",
    "import sys"
   ]
  },
  {
   "cell_type": "markdown",
   "metadata": {},
   "source": [
    "##### load local data\n",
    "    load csv into notebook as dataframe 'df'.  using `type()` will return the type of data. "
   ]
  },
  {
   "cell_type": "code",
   "execution_count": 2,
   "metadata": {},
   "outputs": [
    {
     "data": {
      "text/plain": [
       "pandas.core.frame.DataFrame"
      ]
     },
     "execution_count": 2,
     "metadata": {},
     "output_type": "execute_result"
    }
   ],
   "source": [
    "# load csv into notebook as dataframe 'df', and check the data  \n",
    "# path_to_file = './project-files/collisions.csv'\n",
    "path_to_file = 'https://data.louisvilleky.gov/sites/default/files/KSIPedestrians2009-2018_0.csv'\n",
    "\n",
    "df = pd.read_csv(path_to_file,  dtype = str) # load csv data as pandas DataFrame, load # dtype = str, \n",
    "type(df)"
   ]
  },
  {
   "cell_type": "markdown",
   "metadata": {},
   "source": [
    "##### take a look at the data, from a few angles"
   ]
  },
  {
   "cell_type": "code",
   "execution_count": 3,
   "metadata": {
    "scrolled": true
   },
   "outputs": [
    {
     "data": {
      "text/plain": [
       "((811, 38),\n",
       "    IncidentId AgencyORI                    AgencyName IncidentStatusDesc  \\\n",
       " 34   23843098   0568000  LOUISVILLE METRO POLICE DEPT           Accepted   \n",
       " \n",
       "        County RdwyNumber Street RoadwayName StreetSfx StreetDir  ...  \\\n",
       " 34  JEFFERSON        NaN    NaN       GRADE        LN       NaN  ...   \n",
       " \n",
       "                               DirAnalysisCode MannerofCollision  \\\n",
       " 34  COLLISION WITH PEDESTRIAN IN INTERSECTION    SINGLE VEHICLE   \n",
       " \n",
       "     RdwyCharacter       LightCondition RampFromRdwyId RampToRdwyId  \\\n",
       " 34  CURVE & LEVEL  DARK-HWY LIGHTED/ON            NaN          NaN   \n",
       " \n",
       "    AcceptedDate IsSecondaryCollision OwnerBadge IncidentStatus  \n",
       " 34  43332.56008                FALSE       7772       Accepted  \n",
       " \n",
       " [1 rows x 38 columns])"
      ]
     },
     "execution_count": 3,
     "metadata": {},
     "output_type": "execute_result"
    }
   ],
   "source": [
    "df.shape, df.sample(1)  # shape will return the number of rows, and columns.  .sample() will return a random row"
   ]
  },
  {
   "cell_type": "code",
   "execution_count": 4,
   "metadata": {},
   "outputs": [
    {
     "data": {
      "text/plain": [
       "(  IncidentId AgencyORI                      AgencyName IncidentStatusDesc  \\\n",
       " 0   24436019   0568000    LOUISVILLE METRO POLICE DEPT           Accepted   \n",
       " 1   24449664   0560300  ST. MATTHEWS POLICE DEPARTMENT           Accepted   \n",
       " 2   24465922   0568000    LOUISVILLE METRO POLICE DEPT           Accepted   \n",
       " 3   24435929   0568000    LOUISVILLE METRO POLICE DEPT           Accepted   \n",
       " 4   24395667   0568000    LOUISVILLE METRO POLICE DEPT           Accepted   \n",
       " \n",
       "       County RdwyNumber Street  RoadwayName StreetSfx StreetDir  ...  \\\n",
       " 0  JEFFERSON    US0031E    NaN    BARDSTOWN        RD       NaN  ...   \n",
       " 1  JEFFERSON        NaN    117  ST MATTHEWS       AVE       NaN  ...   \n",
       " 2  JEFFERSON     KY1447    NaN     WESTPORT        RD       NaN  ...   \n",
       " 3  JEFFERSON        NaN    NaN         35TH        ST         N  ...   \n",
       " 4  JEFFERSON        NaN    NaN      CENTRAL       AVE       NaN  ...   \n",
       " \n",
       "                                 DirAnalysisCode MannerofCollision  \\\n",
       " 0     COLLISION WITH PEDESTRIAN IN INTERSECTION    SINGLE VEHICLE   \n",
       " 1  COLLISION WITH PEDESTRIAN NON - INTERSECTION    SINGLE VEHICLE   \n",
       " 2     COLLISION WITH PEDESTRIAN IN INTERSECTION    SINGLE VEHICLE   \n",
       " 3  COLLISION WITH PEDESTRIAN NON - INTERSECTION    SINGLE VEHICLE   \n",
       " 4     COLLISION WITH PEDESTRIAN IN INTERSECTION    SINGLE VEHICLE   \n",
       " \n",
       "       RdwyCharacter        LightCondition RampFromRdwyId RampToRdwyId  \\\n",
       " 0  STRAIGHT & LEVEL              DAYLIGHT            NaN          NaN   \n",
       " 1     CURVE & LEVEL  DARK-HWY NOT LIGHTED            NaN          NaN   \n",
       " 2     CURVE & GRADE  DARK-HWY NOT LIGHTED            NaN          NaN   \n",
       " 3  STRAIGHT & GRADE   DARK-HWY LIGHTED/ON            NaN          NaN   \n",
       " 4  STRAIGHT & LEVEL              DAYLIGHT            NaN          NaN   \n",
       " \n",
       "   AcceptedDate IsSecondaryCollision OwnerBadge IncidentStatus  \n",
       " 0  43465.43922                FALSE       5207       Accepted  \n",
       " 1  43468.62742                FALSE       9155       Accepted  \n",
       " 2  43472.66276                FALSE       7720       Accepted  \n",
       " 3  43465.43639                FALSE       7072       Accepted  \n",
       " 4  43453.37997                FALSE       7249       Accepted  \n",
       " \n",
       " [5 rows x 38 columns],\n",
       "     IncidentId AgencyORI                    AgencyName IncidentStatusDesc  \\\n",
       " 806    7678938   0568000  LOUISVILLE METRO POLICE DEPT           Accepted   \n",
       " 807    7609198   0568000  LOUISVILLE METRO POLICE DEPT           Accepted   \n",
       " 808    7595817   0568000  LOUISVILLE METRO POLICE DEPT           Accepted   \n",
       " 809    7554564   0568000  LOUISVILLE METRO POLICE DEPT           Accepted   \n",
       " 810    7526573   0568000  LOUISVILLE METRO POLICE DEPT           Accepted   \n",
       " \n",
       "         County RdwyNumber Street   RoadwayName StreetSfx StreetDir  ...  \\\n",
       " 806  JEFFERSON    US0031E    NaN     BARDSTOWN        RD       NaN  ...   \n",
       " 807  JEFFERSON        NaN    NaN     SOUTHLAND      BLVD         W  ...   \n",
       " 808  JEFFERSON     KY0864    NaN  POPLAR LEVEL        RD       NaN  ...   \n",
       " 809  JEFFERSON        NaN    NaN      PORTLAND       AVE       NaN  ...   \n",
       " 810  JEFFERSON    US0031E    NaN     BARDSTOWN        RD       NaN  ...   \n",
       " \n",
       "                                   DirAnalysisCode MannerofCollision  \\\n",
       " 806           1 VEHICLE ENTERING/LEAVING ENTRANCE             ANGLE   \n",
       " 807     COLLISION WITH PEDESTRIAN IN INTERSECTION    SINGLE VEHICLE   \n",
       " 808  COLLISION WITH PEDESTRIAN NON - INTERSECTION           HEAD ON   \n",
       " 809  COLLISION WITH PEDESTRIAN NON - INTERSECTION             ANGLE   \n",
       " 810  COLLISION WITH PEDESTRIAN NON - INTERSECTION    SINGLE VEHICLE   \n",
       " \n",
       "         RdwyCharacter       LightCondition RampFromRdwyId RampToRdwyId  \\\n",
       " 806  STRAIGHT & LEVEL             DAYLIGHT            NaN          NaN   \n",
       " 807  STRAIGHT & LEVEL             DAYLIGHT            NaN          NaN   \n",
       " 808  STRAIGHT & GRADE             DAYLIGHT            NaN          NaN   \n",
       " 809  STRAIGHT & LEVEL  DARK-HWY LIGHTED/ON            NaN          NaN   \n",
       " 810  STRAIGHT & GRADE             DAYLIGHT            NaN          NaN   \n",
       " \n",
       "     AcceptedDate IsSecondaryCollision OwnerBadge IncidentStatus  \n",
       " 806  39849.53539                 TRUE       2041       Accepted  \n",
       " 807  39834.50753                FALSE       2532       Accepted  \n",
       " 808  39833.67028                FALSE       2323       Accepted  \n",
       " 809  39828.67851                FALSE       7694       Accepted  \n",
       " 810  39828.49753                FALSE       2323       Accepted  \n",
       " \n",
       " [5 rows x 38 columns])"
      ]
     },
     "execution_count": 4,
     "metadata": {},
     "output_type": "execute_result"
    }
   ],
   "source": [
    "df.head(), df.tail()"
   ]
  },
  {
   "cell_type": "code",
   "execution_count": 5,
   "metadata": {},
   "outputs": [
    {
     "data": {
      "text/plain": [
       "['IncidentId',\n",
       " 'AgencyORI',\n",
       " 'AgencyName',\n",
       " 'IncidentStatusDesc',\n",
       " 'County',\n",
       " 'RdwyNumber',\n",
       " 'Street',\n",
       " 'RoadwayName',\n",
       " 'StreetSfx',\n",
       " 'StreetDir',\n",
       " 'IntersectionRdwy',\n",
       " 'IntersectionRdwyName',\n",
       " 'BetweenStRdwy1',\n",
       " 'BetweenStRdwyName1',\n",
       " 'BetweenStRdwy2',\n",
       " 'BetweenStRdwyName2',\n",
       " 'Latitude',\n",
       " 'Longitude',\n",
       " 'Milepoint',\n",
       " 'CollisionDate',\n",
       " 'CollisionTime',\n",
       " 'UnitsInvolved',\n",
       " 'MotorVehiclesInvolved',\n",
       " 'NumberKilled',\n",
       " 'NumberInjured',\n",
       " 'Weather',\n",
       " 'RdwyConditionCode',\n",
       " 'HitandRun',\n",
       " 'DirAnalysisCode',\n",
       " 'MannerofCollision',\n",
       " 'RdwyCharacter',\n",
       " 'LightCondition',\n",
       " 'RampFromRdwyId',\n",
       " 'RampToRdwyId',\n",
       " 'AcceptedDate',\n",
       " 'IsSecondaryCollision',\n",
       " 'OwnerBadge',\n",
       " 'IncidentStatus']"
      ]
     },
     "execution_count": 5,
     "metadata": {},
     "output_type": "execute_result"
    }
   ],
   "source": [
    "list(df.columns) # take a look at all the columns"
   ]
  },
  {
   "cell_type": "code",
   "execution_count": 6,
   "metadata": {},
   "outputs": [
    {
     "data": {
      "text/plain": [
       "(array(['CLEAR', 'CLOUDY', 'RAINING', 'SNOWING', 'OTHER',\n",
       "        'BLOWING SAND/SOIL/DIRT/SNOW', 'SLEET, HAIL, FREEZING RAIN',\n",
       "        'FOG WITH RAIN'], dtype=object),\n",
       " array(['DAYLIGHT', 'DARK-HWY NOT LIGHTED', 'DARK-HWY LIGHTED/ON', 'DUSK',\n",
       "        'DARK (UNKNOWN ROADWAY LIGHTING)', 'DARK-HWY LIGHTED/OFF', 'DAWN',\n",
       "        'OTHER'], dtype=object),\n",
       " array(['1', '0', '2', '3', '4', '9', '5', '19'], dtype=object),\n",
       " array(['0', '1', '2'], dtype=object))"
      ]
     },
     "execution_count": 6,
     "metadata": {},
     "output_type": "execute_result"
    }
   ],
   "source": [
    "df['Weather'].unique(),df['LightCondition'].unique(), df['NumberInjured'].unique(),df['NumberKilled'].unique()"
   ]
  },
  {
   "cell_type": "markdown",
   "metadata": {},
   "source": [
    "##### are there any columns we don't care about that can be removed?   \n",
    "Let's simplify this. Taking a look at a key provided for this data."
   ]
  },
  {
   "cell_type": "code",
   "execution_count": 7,
   "metadata": {},
   "outputs": [],
   "source": [
    "df = df.drop(columns=[\n",
    " 'IncidentId',\n",
    " 'AgencyORI',\n",
    " 'AgencyName',\n",
    " 'IncidentStatusDesc',\n",
    " 'County',\n",
    " 'RdwyNumber',\n",
    " 'Street',\n",
    " 'RoadwayName',\n",
    " 'StreetSfx',\n",
    " 'StreetDir',\n",
    " 'IntersectionRdwy',\n",
    " 'IntersectionRdwyName',\n",
    " 'BetweenStRdwy1',\n",
    " 'BetweenStRdwyName1',\n",
    " 'BetweenStRdwy2',\n",
    " 'BetweenStRdwyName2',\n",
    "#  'Latitude',\n",
    "#  'Longitude',\n",
    " 'Milepoint',\n",
    " 'CollisionDate',\n",
    " 'CollisionTime',\n",
    " 'UnitsInvolved',\n",
    " 'MotorVehiclesInvolved',\n",
    "#  'NumberKilled',\n",
    "#  'NumberInjured',\n",
    " 'Weather',\n",
    " 'RdwyConditionCode',\n",
    "#  'HitandRun',\n",
    " 'DirAnalysisCode',\n",
    " 'MannerofCollision',\n",
    " 'RdwyCharacter',\n",
    " 'LightCondition',\n",
    " 'RampFromRdwyId',\n",
    " 'RampToRdwyId',\n",
    " 'AcceptedDate',\n",
    " 'IsSecondaryCollision',\n",
    " 'OwnerBadge',\n",
    " 'IncidentStatus'])"
   ]
  },
  {
   "cell_type": "code",
   "execution_count": 8,
   "metadata": {},
   "outputs": [
    {
     "data": {
      "text/plain": [
       "str"
      ]
     },
     "execution_count": 8,
     "metadata": {},
     "output_type": "execute_result"
    }
   ],
   "source": [
    "type(df.Latitude[0])"
   ]
  },
  {
   "cell_type": "code",
   "execution_count": 9,
   "metadata": {},
   "outputs": [
    {
     "data": {
      "text/plain": [
       "str"
      ]
     },
     "execution_count": 9,
     "metadata": {},
     "output_type": "execute_result"
    }
   ],
   "source": [
    "type(df.NumberKilled[0])"
   ]
  },
  {
   "cell_type": "code",
   "execution_count": 10,
   "metadata": {},
   "outputs": [
    {
     "data": {
      "text/plain": [
       "['Latitude', 'Longitude', 'NumberKilled', 'NumberInjured', 'HitandRun']"
      ]
     },
     "execution_count": 10,
     "metadata": {},
     "output_type": "execute_result"
    }
   ],
   "source": [
    "list(df.columns)"
   ]
  },
  {
   "cell_type": "code",
   "execution_count": 11,
   "metadata": {},
   "outputs": [
    {
     "data": {
      "text/plain": [
       "(      Latitude     Longitude NumberKilled NumberInjured HitandRun\n",
       " 0  38.23855613  -85.72115038            0             1     FALSE\n",
       " 1  38.25275058  -85.65253997            0             1     FALSE\n",
       " 2  38.28602118   -85.5776082            1             0     FALSE\n",
       " 3  38.27045314  -85.80489266            1             0     FALSE\n",
       " 4  38.21074622  -85.77960742            0             1     FALSE,\n",
       "        Latitude     Longitude NumberKilled NumberInjured HitandRun\n",
       " 806  38.1685645   -85.6045401            0             1     FALSE\n",
       " 807  38.1715718   -85.7677914            0             1     FALSE\n",
       " 808  38.2146149   -85.7236772            0             1     FALSE\n",
       " 809    38.26975  -85.78851667            0             1     FALSE\n",
       " 810  38.2009692   -85.6630691            0             1     FALSE)"
      ]
     },
     "execution_count": 11,
     "metadata": {},
     "output_type": "execute_result"
    }
   ],
   "source": [
    "df.head(), df.tail()"
   ]
  },
  {
   "cell_type": "markdown",
   "metadata": {},
   "source": [
    "##### after taking a look at the data and identifying some coordinates, further inspect the geometry columns.\n",
    "\n",
    "These are labeled `xcoord` and `ycoord`.  Let's figure out what type of data this is using `type()`\n"
   ]
  },
  {
   "cell_type": "code",
   "execution_count": 12,
   "metadata": {},
   "outputs": [
    {
     "data": {
      "text/plain": [
       "(str, str, str, str, str)"
      ]
     },
     "execution_count": 12,
     "metadata": {},
     "output_type": "execute_result"
    }
   ],
   "source": [
    "# check datatypes\n",
    "type(df.Latitude[1]), type(df.Longitude[1]), type(df.NumberKilled[1]), type(df.NumberInjured[1]), type(df.HitandRun[1]) # str"
   ]
  },
  {
   "cell_type": "markdown",
   "metadata": {},
   "source": [
    "##### since these are strings, removing extra spaces that may be lingering is necessary before converting over to a numerical type"
   ]
  },
  {
   "cell_type": "code",
   "execution_count": 13,
   "metadata": {},
   "outputs": [],
   "source": [
    "#remove extra spaces in strings\n",
    "df.Latitude = df.Latitude.map(str.strip)  \n",
    "df.Longitude = df.Longitude.map(str.strip)\n",
    "df.NumberKilled = df.NumberKilled.map(str.strip)\n",
    "df.NumberInjured = df.NumberInjured.map(str.strip)"
   ]
  },
  {
   "cell_type": "code",
   "execution_count": 14,
   "metadata": {},
   "outputs": [
    {
     "data": {
      "text/plain": [
       "(0    38.23855613\n",
       " 1    38.25275058\n",
       " 2    38.28602118\n",
       " 3    38.27045314\n",
       " 4    38.21074622\n",
       " Name: Latitude, dtype: object, 0    -85.72115038\n",
       " 1    -85.65253997\n",
       " 2     -85.5776082\n",
       " 3    -85.80489266\n",
       " 4    -85.77960742\n",
       " Name: Longitude, dtype: object)"
      ]
     },
     "execution_count": 14,
     "metadata": {},
     "output_type": "execute_result"
    }
   ],
   "source": [
    "# lets look at the first 5 rows of data in this column\n",
    "df.Latitude.head(), df.Longitude.head()  "
   ]
  },
  {
   "cell_type": "code",
   "execution_count": 15,
   "metadata": {},
   "outputs": [
    {
     "data": {
      "text/plain": [
       "('38.20166667', '-85.53666667')"
      ]
     },
     "execution_count": 15,
     "metadata": {},
     "output_type": "execute_result"
    }
   ],
   "source": [
    "# check to see what the most common value\n",
    "# .idxmax() returns the most common value in a column\n",
    "df.Latitude.value_counts().idxmax(), df.Longitude.value_counts().idxmax() "
   ]
  },
  {
   "cell_type": "markdown",
   "metadata": {},
   "source": [
    "##### after identifying the cell value that indicates ***not geocoded***,  now remove ungeocoded cells from the dataframe"
   ]
  },
  {
   "cell_type": "code",
   "execution_count": 16,
   "metadata": {},
   "outputs": [
    {
     "data": {
      "text/plain": [
       "(811, 5)"
      ]
     },
     "execution_count": 16,
     "metadata": {},
     "output_type": "execute_result"
    }
   ],
   "source": [
    "# replace empty strings with NaN\n",
    "df.Longitude.replace('', np.nan, inplace=True)\n",
    "df.Latitude.replace('', np.nan, inplace=True)\n",
    "df.NumberKilled.replace('', np.nan, inplace=True)\n",
    "df.NumberInjured.replace('', np.nan, inplace=True)\n",
    "df.shape # check number of rows here for comparison with result of next step"
   ]
  },
  {
   "cell_type": "code",
   "execution_count": 17,
   "metadata": {},
   "outputs": [
    {
     "data": {
      "text/plain": [
       "(811, 5)"
      ]
     },
     "execution_count": 17,
     "metadata": {},
     "output_type": "execute_result"
    }
   ],
   "source": [
    "# Now drop the null values\n",
    "df.dropna(subset=['Longitude'], inplace=True)\n",
    "df.dropna(subset=['Latitude'], inplace=True)\n",
    "df.dropna(subset=['NumberKilled'], inplace=True)\n",
    "df.dropna(subset=['NumberInjured'], inplace=True)\n",
    "df.shape # check number of rows here for comparison with result of previous step to verify removal"
   ]
  },
  {
   "cell_type": "code",
   "execution_count": 18,
   "metadata": {},
   "outputs": [],
   "source": [
    "# to be useful later, we need numerical values (for now, integers), not Strings. Converting the coordinates into numerical values is paramount. \n",
    "# convert strings to integers\n",
    "df.Longitude = pd.to_numeric(df.Longitude, errors='ignore')\n",
    "df.Latitude = pd.to_numeric(df.Latitude, errors='ignore')\n",
    "df.NumberKilled = pd.to_numeric(df.NumberKilled, errors='ignore')\n",
    "df.NumberInjured = pd.to_numeric(df.NumberInjured, errors='ignore')\n"
   ]
  },
  {
   "cell_type": "code",
   "execution_count": 19,
   "metadata": {},
   "outputs": [
    {
     "data": {
      "text/plain": [
       "numpy.int64"
      ]
     },
     "execution_count": 19,
     "metadata": {},
     "output_type": "execute_result"
    }
   ],
   "source": [
    "type(df.NumberInjured[1])"
   ]
  },
  {
   "cell_type": "markdown",
   "metadata": {},
   "source": [
    "establish boolean value for numberkilled or numberinjured to new column? "
   ]
  },
  {
   "cell_type": "code",
   "execution_count": 20,
   "metadata": {},
   "outputs": [],
   "source": [
    "# polys = gpd.read_file(r\"./data/council-districts.json\")\n",
    "# points = gpd.read_file(r\"./project-files/collisions-4326.json\")\n",
    "# polys[0].contains(points)"
   ]
  },
  {
   "cell_type": "markdown",
   "metadata": {},
   "source": [
    "#### save as json"
   ]
  },
  {
   "cell_type": "code",
   "execution_count": 21,
   "metadata": {},
   "outputs": [],
   "source": [
    "# stash the data locally as json\n",
    "with open('./project-files/collisions.json', 'w') as f:\n",
    "    f.write(df.to_json())"
   ]
  },
  {
   "cell_type": "markdown",
   "metadata": {},
   "source": [
    "##### now verify the file was written "
   ]
  },
  {
   "cell_type": "code",
   "execution_count": 22,
   "metadata": {},
   "outputs": [
    {
     "name": "stdout",
     "output_type": "stream",
     "text": [
      "collisions-4326.json\n",
      "collisions.csv\n",
      "collisions.json\n",
      "Council_Districts.zip\n",
      "districts-fatal-4326.json\n",
      "council_districts.cpg\n",
      "council_districts.dbf\n",
      "council_districts.prj\n",
      "council_districts.qpj\n",
      "council_districts.shp\n",
      "council_districts.shx\n"
     ]
    }
   ],
   "source": [
    "# imports the OS module, using the .walk() method returns information about the current working directory. \n",
    "import os\n",
    "for root, dirs, files in os.walk('./project-files/'):\n",
    "    for filename in files:\n",
    "        print(filename)"
   ]
  },
  {
   "cell_type": "markdown",
   "metadata": {},
   "source": [
    "#### JSON will soon become a geojson..."
   ]
  },
  {
   "cell_type": "markdown",
   "metadata": {},
   "source": [
    "##### access JSON that we created and stashed locally and load as dataframe"
   ]
  },
  {
   "cell_type": "code",
   "execution_count": 23,
   "metadata": {},
   "outputs": [
    {
     "data": {
      "text/plain": [
       "(pandas.core.frame.DataFrame,\n",
       "       Latitude  Longitude  NumberKilled  NumberInjured HitandRun\n",
       " 0    38.238556 -85.721150             0              1     FALSE\n",
       " 1    38.252751 -85.652540             0              1     FALSE\n",
       " 10   38.158765 -85.833414             1              0     FALSE\n",
       " 100  38.167801 -85.836265             0              2     FALSE\n",
       " 101  38.175330 -85.822261             1              0     FALSE)"
      ]
     },
     "execution_count": 23,
     "metadata": {},
     "output_type": "execute_result"
    }
   ],
   "source": [
    "path_to_file = './project-files/collisions.json'\n",
    "df = pd.read_json(path_to_file) # load csv data as pandas DataFrame\n",
    "type(df), df.head()"
   ]
  },
  {
   "cell_type": "markdown",
   "metadata": {},
   "source": [
    "##### create the geometry...\n",
    "Louisville made it easy and provided lat/longs, so we can   "
   ]
  },
  {
   "cell_type": "code",
   "execution_count": 24,
   "metadata": {},
   "outputs": [
    {
     "data": {
      "text/html": [
       "<div>\n",
       "<style scoped>\n",
       "    .dataframe tbody tr th:only-of-type {\n",
       "        vertical-align: middle;\n",
       "    }\n",
       "\n",
       "    .dataframe tbody tr th {\n",
       "        vertical-align: top;\n",
       "    }\n",
       "\n",
       "    .dataframe thead th {\n",
       "        text-align: right;\n",
       "    }\n",
       "</style>\n",
       "<table border=\"1\" class=\"dataframe\">\n",
       "  <thead>\n",
       "    <tr style=\"text-align: right;\">\n",
       "      <th></th>\n",
       "      <th>Latitude</th>\n",
       "      <th>Longitude</th>\n",
       "      <th>NumberKilled</th>\n",
       "      <th>NumberInjured</th>\n",
       "      <th>HitandRun</th>\n",
       "      <th>geometry</th>\n",
       "    </tr>\n",
       "  </thead>\n",
       "  <tbody>\n",
       "    <tr>\n",
       "      <th>0</th>\n",
       "      <td>38.238556</td>\n",
       "      <td>-85.721150</td>\n",
       "      <td>0</td>\n",
       "      <td>1</td>\n",
       "      <td>FALSE</td>\n",
       "      <td>POINT (-85.72115038 38.23855613)</td>\n",
       "    </tr>\n",
       "    <tr>\n",
       "      <th>1</th>\n",
       "      <td>38.252751</td>\n",
       "      <td>-85.652540</td>\n",
       "      <td>0</td>\n",
       "      <td>1</td>\n",
       "      <td>FALSE</td>\n",
       "      <td>POINT (-85.65253997000001 38.25275058)</td>\n",
       "    </tr>\n",
       "    <tr>\n",
       "      <th>10</th>\n",
       "      <td>38.158765</td>\n",
       "      <td>-85.833414</td>\n",
       "      <td>1</td>\n",
       "      <td>0</td>\n",
       "      <td>FALSE</td>\n",
       "      <td>POINT (-85.83341382 38.15876528)</td>\n",
       "    </tr>\n",
       "    <tr>\n",
       "      <th>100</th>\n",
       "      <td>38.167801</td>\n",
       "      <td>-85.836265</td>\n",
       "      <td>0</td>\n",
       "      <td>2</td>\n",
       "      <td>FALSE</td>\n",
       "      <td>POINT (-85.83626460000001 38.1678006)</td>\n",
       "    </tr>\n",
       "    <tr>\n",
       "      <th>101</th>\n",
       "      <td>38.175330</td>\n",
       "      <td>-85.822261</td>\n",
       "      <td>1</td>\n",
       "      <td>0</td>\n",
       "      <td>FALSE</td>\n",
       "      <td>POINT (-85.82226097 38.17532981)</td>\n",
       "    </tr>\n",
       "  </tbody>\n",
       "</table>\n",
       "</div>"
      ],
      "text/plain": [
       "      Latitude  Longitude  NumberKilled  NumberInjured HitandRun  \\\n",
       "0    38.238556 -85.721150             0              1     FALSE   \n",
       "1    38.252751 -85.652540             0              1     FALSE   \n",
       "10   38.158765 -85.833414             1              0     FALSE   \n",
       "100  38.167801 -85.836265             0              2     FALSE   \n",
       "101  38.175330 -85.822261             1              0     FALSE   \n",
       "\n",
       "                                   geometry  \n",
       "0          POINT (-85.72115038 38.23855613)  \n",
       "1    POINT (-85.65253997000001 38.25275058)  \n",
       "10         POINT (-85.83341382 38.15876528)  \n",
       "100   POINT (-85.83626460000001 38.1678006)  \n",
       "101        POINT (-85.82226097 38.17532981)  "
      ]
     },
     "execution_count": 24,
     "metadata": {},
     "output_type": "execute_result"
    }
   ],
   "source": [
    "# create geometry using Shapely Point & assign proper projection\n",
    "geometry = [Point(xy) for xy in zip(df.Longitude, df.Latitude)]\n",
    "# df = df.drop(['Longitude', 'Latitude'], axis=1)\n",
    "crs = {'init': 'epsg:4326'}\n",
    "collisions = gpd.GeoDataFrame(df, crs=crs, geometry=geometry)\n",
    "collisions.head()"
   ]
  },
  {
   "cell_type": "code",
   "execution_count": 25,
   "metadata": {},
   "outputs": [],
   "source": [
    "with open('./project-files/collisions-4326.json', 'w') as f:\n",
    "    f.write(collisions.to_json())"
   ]
  },
  {
   "cell_type": "markdown",
   "metadata": {},
   "source": [
    "#### now we need to count points within polygons.  we'll do this 2 ways\n"
   ]
  },
  {
   "cell_type": "code",
   "execution_count": 26,
   "metadata": {},
   "outputs": [],
   "source": [
    "polys = gpd.read_file(r\"./data/council-districts.json\")\n",
    "points = gpd.read_file(r\"./project-files/collisions-4326.json\")\n",
    "\n",
    "dfsjoin = gpd.sjoin(polys,points) #Spatial join Points to polygons\n",
    "dfpivot = pd.pivot_table(dfsjoin,index='objectid',columns='NumberKilled',aggfunc={'NumberKilled':len})\n",
    "dfpivot.columns = dfpivot.columns.droplevel()\n",
    "\n",
    "distfatal = polys.merge(dfpivot, how='left',on='objectid')"
   ]
  },
  {
   "cell_type": "code",
   "execution_count": 27,
   "metadata": {},
   "outputs": [
    {
     "data": {
      "text/html": [
       "<div>\n",
       "<style scoped>\n",
       "    .dataframe tbody tr th:only-of-type {\n",
       "        vertical-align: middle;\n",
       "    }\n",
       "\n",
       "    .dataframe tbody tr th {\n",
       "        vertical-align: top;\n",
       "    }\n",
       "\n",
       "    .dataframe thead th {\n",
       "        text-align: right;\n",
       "    }\n",
       "</style>\n",
       "<table border=\"1\" class=\"dataframe\">\n",
       "  <thead>\n",
       "    <tr style=\"text-align: right;\">\n",
       "      <th></th>\n",
       "      <th>objectid</th>\n",
       "      <th>coundist</th>\n",
       "      <th>coun_party</th>\n",
       "      <th>geometry</th>\n",
       "      <th>0</th>\n",
       "      <th>1</th>\n",
       "      <th>2</th>\n",
       "    </tr>\n",
       "  </thead>\n",
       "  <tbody>\n",
       "    <tr>\n",
       "      <th>0</th>\n",
       "      <td>1</td>\n",
       "      <td>1</td>\n",
       "      <td>D</td>\n",
       "      <td>POLYGON ((-85.80240000000001 38.2497, -85.8024...</td>\n",
       "      <td>20.0</td>\n",
       "      <td>5.0</td>\n",
       "      <td>NaN</td>\n",
       "    </tr>\n",
       "    <tr>\n",
       "      <th>1</th>\n",
       "      <td>2</td>\n",
       "      <td>2</td>\n",
       "      <td>D</td>\n",
       "      <td>POLYGON ((-85.62609999999999 38.1862, -85.6262...</td>\n",
       "      <td>23.0</td>\n",
       "      <td>12.0</td>\n",
       "      <td>NaN</td>\n",
       "    </tr>\n",
       "    <tr>\n",
       "      <th>2</th>\n",
       "      <td>3</td>\n",
       "      <td>3</td>\n",
       "      <td>D</td>\n",
       "      <td>POLYGON ((-85.78360000000001 38.205, -85.78360...</td>\n",
       "      <td>46.0</td>\n",
       "      <td>17.0</td>\n",
       "      <td>1.0</td>\n",
       "    </tr>\n",
       "    <tr>\n",
       "      <th>3</th>\n",
       "      <td>4</td>\n",
       "      <td>4</td>\n",
       "      <td>D</td>\n",
       "      <td>POLYGON ((-85.7354 38.2704, -85.73 38.2636, -8...</td>\n",
       "      <td>80.0</td>\n",
       "      <td>13.0</td>\n",
       "      <td>NaN</td>\n",
       "    </tr>\n",
       "    <tr>\n",
       "      <th>4</th>\n",
       "      <td>5</td>\n",
       "      <td>5</td>\n",
       "      <td>D</td>\n",
       "      <td>POLYGON ((-85.7612 38.2721, -85.7718 38.2634, ...</td>\n",
       "      <td>37.0</td>\n",
       "      <td>6.0</td>\n",
       "      <td>NaN</td>\n",
       "    </tr>\n",
       "    <tr>\n",
       "      <th>5</th>\n",
       "      <td>6</td>\n",
       "      <td>6</td>\n",
       "      <td>D</td>\n",
       "      <td>POLYGON ((-85.7516 38.2201, -85.7517 38.2198, ...</td>\n",
       "      <td>47.0</td>\n",
       "      <td>12.0</td>\n",
       "      <td>NaN</td>\n",
       "    </tr>\n",
       "    <tr>\n",
       "      <th>6</th>\n",
       "      <td>7</td>\n",
       "      <td>7</td>\n",
       "      <td>R</td>\n",
       "      <td>POLYGON ((-85.59269999999999 38.3004, -85.5925...</td>\n",
       "      <td>11.0</td>\n",
       "      <td>3.0</td>\n",
       "      <td>1.0</td>\n",
       "    </tr>\n",
       "    <tr>\n",
       "      <th>7</th>\n",
       "      <td>8</td>\n",
       "      <td>8</td>\n",
       "      <td>D</td>\n",
       "      <td>POLYGON ((-85.6583 38.2222, -85.65819999999999...</td>\n",
       "      <td>32.0</td>\n",
       "      <td>2.0</td>\n",
       "      <td>NaN</td>\n",
       "    </tr>\n",
       "    <tr>\n",
       "      <th>8</th>\n",
       "      <td>9</td>\n",
       "      <td>9</td>\n",
       "      <td>D</td>\n",
       "      <td>POLYGON ((-85.63930000000001 38.2516, -85.6395...</td>\n",
       "      <td>28.0</td>\n",
       "      <td>1.0</td>\n",
       "      <td>NaN</td>\n",
       "    </tr>\n",
       "    <tr>\n",
       "      <th>9</th>\n",
       "      <td>10</td>\n",
       "      <td>10</td>\n",
       "      <td>D</td>\n",
       "      <td>POLYGON ((-85.6713 38.2113, -85.6712 38.2112, ...</td>\n",
       "      <td>19.0</td>\n",
       "      <td>3.0</td>\n",
       "      <td>NaN</td>\n",
       "    </tr>\n",
       "    <tr>\n",
       "      <th>10</th>\n",
       "      <td>11</td>\n",
       "      <td>11</td>\n",
       "      <td>R</td>\n",
       "      <td>POLYGON ((-85.5842 38.174, -85.5843 38.1741, -...</td>\n",
       "      <td>10.0</td>\n",
       "      <td>6.0</td>\n",
       "      <td>1.0</td>\n",
       "    </tr>\n",
       "    <tr>\n",
       "      <th>11</th>\n",
       "      <td>12</td>\n",
       "      <td>12</td>\n",
       "      <td>D</td>\n",
       "      <td>POLYGON ((-85.8349 38.176, -85.8348 38.176, -8...</td>\n",
       "      <td>17.0</td>\n",
       "      <td>11.0</td>\n",
       "      <td>NaN</td>\n",
       "    </tr>\n",
       "    <tr>\n",
       "      <th>12</th>\n",
       "      <td>13</td>\n",
       "      <td>13</td>\n",
       "      <td>D</td>\n",
       "      <td>POLYGON ((-85.6913 38.1467, -85.69119999999999...</td>\n",
       "      <td>15.0</td>\n",
       "      <td>11.0</td>\n",
       "      <td>NaN</td>\n",
       "    </tr>\n",
       "    <tr>\n",
       "      <th>13</th>\n",
       "      <td>14</td>\n",
       "      <td>14</td>\n",
       "      <td>D</td>\n",
       "      <td>POLYGON ((-85.8507 38.144, -85.85080000000001 ...</td>\n",
       "      <td>27.0</td>\n",
       "      <td>14.0</td>\n",
       "      <td>NaN</td>\n",
       "    </tr>\n",
       "    <tr>\n",
       "      <th>14</th>\n",
       "      <td>15</td>\n",
       "      <td>15</td>\n",
       "      <td>D</td>\n",
       "      <td>POLYGON ((-85.74339999999999 38.2217, -85.7433...</td>\n",
       "      <td>33.0</td>\n",
       "      <td>5.0</td>\n",
       "      <td>NaN</td>\n",
       "    </tr>\n",
       "    <tr>\n",
       "      <th>15</th>\n",
       "      <td>16</td>\n",
       "      <td>16</td>\n",
       "      <td>R</td>\n",
       "      <td>POLYGON ((-85.5145 38.311, -85.5164 38.3101, -...</td>\n",
       "      <td>7.0</td>\n",
       "      <td>3.0</td>\n",
       "      <td>NaN</td>\n",
       "    </tr>\n",
       "    <tr>\n",
       "      <th>16</th>\n",
       "      <td>17</td>\n",
       "      <td>17</td>\n",
       "      <td>R</td>\n",
       "      <td>POLYGON ((-85.5145 38.311, -85.5124 38.3098, -...</td>\n",
       "      <td>11.0</td>\n",
       "      <td>4.0</td>\n",
       "      <td>NaN</td>\n",
       "    </tr>\n",
       "    <tr>\n",
       "      <th>17</th>\n",
       "      <td>18</td>\n",
       "      <td>18</td>\n",
       "      <td>R</td>\n",
       "      <td>POLYGON ((-85.54949999999999 38.2567, -85.5496...</td>\n",
       "      <td>16.0</td>\n",
       "      <td>3.0</td>\n",
       "      <td>NaN</td>\n",
       "    </tr>\n",
       "    <tr>\n",
       "      <th>18</th>\n",
       "      <td>19</td>\n",
       "      <td>19</td>\n",
       "      <td>R</td>\n",
       "      <td>POLYGON ((-85.4764 38.2898, -85.47629999999999...</td>\n",
       "      <td>9.0</td>\n",
       "      <td>2.0</td>\n",
       "      <td>NaN</td>\n",
       "    </tr>\n",
       "    <tr>\n",
       "      <th>19</th>\n",
       "      <td>20</td>\n",
       "      <td>20</td>\n",
       "      <td>R</td>\n",
       "      <td>POLYGON ((-85.4147 38.2038, -85.4152 38.2003, ...</td>\n",
       "      <td>12.0</td>\n",
       "      <td>2.0</td>\n",
       "      <td>NaN</td>\n",
       "    </tr>\n",
       "    <tr>\n",
       "      <th>20</th>\n",
       "      <td>21</td>\n",
       "      <td>21</td>\n",
       "      <td>D</td>\n",
       "      <td>POLYGON ((-85.6964 38.1816, -85.69750000000001...</td>\n",
       "      <td>36.0</td>\n",
       "      <td>13.0</td>\n",
       "      <td>NaN</td>\n",
       "    </tr>\n",
       "    <tr>\n",
       "      <th>21</th>\n",
       "      <td>22</td>\n",
       "      <td>22</td>\n",
       "      <td>R</td>\n",
       "      <td>POLYGON ((-85.6155 38.1925, -85.61539999999999...</td>\n",
       "      <td>11.0</td>\n",
       "      <td>6.0</td>\n",
       "      <td>NaN</td>\n",
       "    </tr>\n",
       "    <tr>\n",
       "      <th>22</th>\n",
       "      <td>23</td>\n",
       "      <td>23</td>\n",
       "      <td>R</td>\n",
       "      <td>POLYGON ((-85.6237 38.0796, -85.625 38.0797, -...</td>\n",
       "      <td>12.0</td>\n",
       "      <td>1.0</td>\n",
       "      <td>NaN</td>\n",
       "    </tr>\n",
       "    <tr>\n",
       "      <th>23</th>\n",
       "      <td>24</td>\n",
       "      <td>24</td>\n",
       "      <td>D</td>\n",
       "      <td>POLYGON ((-85.6228 38.1689, -85.6228 38.1688, ...</td>\n",
       "      <td>24.0</td>\n",
       "      <td>10.0</td>\n",
       "      <td>NaN</td>\n",
       "    </tr>\n",
       "    <tr>\n",
       "      <th>24</th>\n",
       "      <td>25</td>\n",
       "      <td>25</td>\n",
       "      <td>D</td>\n",
       "      <td>POLYGON ((-85.7717 38.1487, -85.7719 38.1486, ...</td>\n",
       "      <td>18.0</td>\n",
       "      <td>7.0</td>\n",
       "      <td>1.0</td>\n",
       "    </tr>\n",
       "    <tr>\n",
       "      <th>25</th>\n",
       "      <td>26</td>\n",
       "      <td>26</td>\n",
       "      <td>D</td>\n",
       "      <td>POLYGON ((-85.63930000000001 38.2516, -85.6392...</td>\n",
       "      <td>29.0</td>\n",
       "      <td>6.0</td>\n",
       "      <td>NaN</td>\n",
       "    </tr>\n",
       "  </tbody>\n",
       "</table>\n",
       "</div>"
      ],
      "text/plain": [
       "    objectid  coundist coun_party  \\\n",
       "0          1         1          D   \n",
       "1          2         2          D   \n",
       "2          3         3          D   \n",
       "3          4         4          D   \n",
       "4          5         5          D   \n",
       "5          6         6          D   \n",
       "6          7         7          R   \n",
       "7          8         8          D   \n",
       "8          9         9          D   \n",
       "9         10        10          D   \n",
       "10        11        11          R   \n",
       "11        12        12          D   \n",
       "12        13        13          D   \n",
       "13        14        14          D   \n",
       "14        15        15          D   \n",
       "15        16        16          R   \n",
       "16        17        17          R   \n",
       "17        18        18          R   \n",
       "18        19        19          R   \n",
       "19        20        20          R   \n",
       "20        21        21          D   \n",
       "21        22        22          R   \n",
       "22        23        23          R   \n",
       "23        24        24          D   \n",
       "24        25        25          D   \n",
       "25        26        26          D   \n",
       "\n",
       "                                             geometry     0     1    2  \n",
       "0   POLYGON ((-85.80240000000001 38.2497, -85.8024...  20.0   5.0  NaN  \n",
       "1   POLYGON ((-85.62609999999999 38.1862, -85.6262...  23.0  12.0  NaN  \n",
       "2   POLYGON ((-85.78360000000001 38.205, -85.78360...  46.0  17.0  1.0  \n",
       "3   POLYGON ((-85.7354 38.2704, -85.73 38.2636, -8...  80.0  13.0  NaN  \n",
       "4   POLYGON ((-85.7612 38.2721, -85.7718 38.2634, ...  37.0   6.0  NaN  \n",
       "5   POLYGON ((-85.7516 38.2201, -85.7517 38.2198, ...  47.0  12.0  NaN  \n",
       "6   POLYGON ((-85.59269999999999 38.3004, -85.5925...  11.0   3.0  1.0  \n",
       "7   POLYGON ((-85.6583 38.2222, -85.65819999999999...  32.0   2.0  NaN  \n",
       "8   POLYGON ((-85.63930000000001 38.2516, -85.6395...  28.0   1.0  NaN  \n",
       "9   POLYGON ((-85.6713 38.2113, -85.6712 38.2112, ...  19.0   3.0  NaN  \n",
       "10  POLYGON ((-85.5842 38.174, -85.5843 38.1741, -...  10.0   6.0  1.0  \n",
       "11  POLYGON ((-85.8349 38.176, -85.8348 38.176, -8...  17.0  11.0  NaN  \n",
       "12  POLYGON ((-85.6913 38.1467, -85.69119999999999...  15.0  11.0  NaN  \n",
       "13  POLYGON ((-85.8507 38.144, -85.85080000000001 ...  27.0  14.0  NaN  \n",
       "14  POLYGON ((-85.74339999999999 38.2217, -85.7433...  33.0   5.0  NaN  \n",
       "15  POLYGON ((-85.5145 38.311, -85.5164 38.3101, -...   7.0   3.0  NaN  \n",
       "16  POLYGON ((-85.5145 38.311, -85.5124 38.3098, -...  11.0   4.0  NaN  \n",
       "17  POLYGON ((-85.54949999999999 38.2567, -85.5496...  16.0   3.0  NaN  \n",
       "18  POLYGON ((-85.4764 38.2898, -85.47629999999999...   9.0   2.0  NaN  \n",
       "19  POLYGON ((-85.4147 38.2038, -85.4152 38.2003, ...  12.0   2.0  NaN  \n",
       "20  POLYGON ((-85.6964 38.1816, -85.69750000000001...  36.0  13.0  NaN  \n",
       "21  POLYGON ((-85.6155 38.1925, -85.61539999999999...  11.0   6.0  NaN  \n",
       "22  POLYGON ((-85.6237 38.0796, -85.625 38.0797, -...  12.0   1.0  NaN  \n",
       "23  POLYGON ((-85.6228 38.1689, -85.6228 38.1688, ...  24.0  10.0  NaN  \n",
       "24  POLYGON ((-85.7717 38.1487, -85.7719 38.1486, ...  18.0   7.0  1.0  \n",
       "25  POLYGON ((-85.63930000000001 38.2516, -85.6392...  29.0   6.0  NaN  "
      ]
     },
     "execution_count": 27,
     "metadata": {},
     "output_type": "execute_result"
    }
   ],
   "source": [
    "distfatal"
   ]
  },
  {
   "cell_type": "code",
   "execution_count": 28,
   "metadata": {},
   "outputs": [
    {
     "data": {
      "text/html": [
       "<div>\n",
       "<style scoped>\n",
       "    .dataframe tbody tr th:only-of-type {\n",
       "        vertical-align: middle;\n",
       "    }\n",
       "\n",
       "    .dataframe tbody tr th {\n",
       "        vertical-align: top;\n",
       "    }\n",
       "\n",
       "    .dataframe thead th {\n",
       "        text-align: right;\n",
       "    }\n",
       "</style>\n",
       "<table border=\"1\" class=\"dataframe\">\n",
       "  <thead>\n",
       "    <tr style=\"text-align: right;\">\n",
       "      <th></th>\n",
       "      <th>objectid</th>\n",
       "      <th>coundist</th>\n",
       "      <th>coun_party</th>\n",
       "      <th>geometry</th>\n",
       "      <th>0</th>\n",
       "      <th>1</th>\n",
       "      <th>2</th>\n",
       "    </tr>\n",
       "  </thead>\n",
       "  <tbody>\n",
       "    <tr>\n",
       "      <th>0</th>\n",
       "      <td>1</td>\n",
       "      <td>1</td>\n",
       "      <td>D</td>\n",
       "      <td>POLYGON ((-85.80240000000001 38.2497, -85.8024...</td>\n",
       "      <td>20.0</td>\n",
       "      <td>5.0</td>\n",
       "      <td>0.0</td>\n",
       "    </tr>\n",
       "    <tr>\n",
       "      <th>1</th>\n",
       "      <td>2</td>\n",
       "      <td>2</td>\n",
       "      <td>D</td>\n",
       "      <td>POLYGON ((-85.62609999999999 38.1862, -85.6262...</td>\n",
       "      <td>23.0</td>\n",
       "      <td>12.0</td>\n",
       "      <td>0.0</td>\n",
       "    </tr>\n",
       "    <tr>\n",
       "      <th>2</th>\n",
       "      <td>3</td>\n",
       "      <td>3</td>\n",
       "      <td>D</td>\n",
       "      <td>POLYGON ((-85.78360000000001 38.205, -85.78360...</td>\n",
       "      <td>46.0</td>\n",
       "      <td>17.0</td>\n",
       "      <td>1.0</td>\n",
       "    </tr>\n",
       "    <tr>\n",
       "      <th>3</th>\n",
       "      <td>4</td>\n",
       "      <td>4</td>\n",
       "      <td>D</td>\n",
       "      <td>POLYGON ((-85.7354 38.2704, -85.73 38.2636, -8...</td>\n",
       "      <td>80.0</td>\n",
       "      <td>13.0</td>\n",
       "      <td>0.0</td>\n",
       "    </tr>\n",
       "    <tr>\n",
       "      <th>4</th>\n",
       "      <td>5</td>\n",
       "      <td>5</td>\n",
       "      <td>D</td>\n",
       "      <td>POLYGON ((-85.7612 38.2721, -85.7718 38.2634, ...</td>\n",
       "      <td>37.0</td>\n",
       "      <td>6.0</td>\n",
       "      <td>0.0</td>\n",
       "    </tr>\n",
       "    <tr>\n",
       "      <th>5</th>\n",
       "      <td>6</td>\n",
       "      <td>6</td>\n",
       "      <td>D</td>\n",
       "      <td>POLYGON ((-85.7516 38.2201, -85.7517 38.2198, ...</td>\n",
       "      <td>47.0</td>\n",
       "      <td>12.0</td>\n",
       "      <td>0.0</td>\n",
       "    </tr>\n",
       "    <tr>\n",
       "      <th>6</th>\n",
       "      <td>7</td>\n",
       "      <td>7</td>\n",
       "      <td>R</td>\n",
       "      <td>POLYGON ((-85.59269999999999 38.3004, -85.5925...</td>\n",
       "      <td>11.0</td>\n",
       "      <td>3.0</td>\n",
       "      <td>1.0</td>\n",
       "    </tr>\n",
       "    <tr>\n",
       "      <th>7</th>\n",
       "      <td>8</td>\n",
       "      <td>8</td>\n",
       "      <td>D</td>\n",
       "      <td>POLYGON ((-85.6583 38.2222, -85.65819999999999...</td>\n",
       "      <td>32.0</td>\n",
       "      <td>2.0</td>\n",
       "      <td>0.0</td>\n",
       "    </tr>\n",
       "    <tr>\n",
       "      <th>8</th>\n",
       "      <td>9</td>\n",
       "      <td>9</td>\n",
       "      <td>D</td>\n",
       "      <td>POLYGON ((-85.63930000000001 38.2516, -85.6395...</td>\n",
       "      <td>28.0</td>\n",
       "      <td>1.0</td>\n",
       "      <td>0.0</td>\n",
       "    </tr>\n",
       "    <tr>\n",
       "      <th>9</th>\n",
       "      <td>10</td>\n",
       "      <td>10</td>\n",
       "      <td>D</td>\n",
       "      <td>POLYGON ((-85.6713 38.2113, -85.6712 38.2112, ...</td>\n",
       "      <td>19.0</td>\n",
       "      <td>3.0</td>\n",
       "      <td>0.0</td>\n",
       "    </tr>\n",
       "    <tr>\n",
       "      <th>10</th>\n",
       "      <td>11</td>\n",
       "      <td>11</td>\n",
       "      <td>R</td>\n",
       "      <td>POLYGON ((-85.5842 38.174, -85.5843 38.1741, -...</td>\n",
       "      <td>10.0</td>\n",
       "      <td>6.0</td>\n",
       "      <td>1.0</td>\n",
       "    </tr>\n",
       "    <tr>\n",
       "      <th>11</th>\n",
       "      <td>12</td>\n",
       "      <td>12</td>\n",
       "      <td>D</td>\n",
       "      <td>POLYGON ((-85.8349 38.176, -85.8348 38.176, -8...</td>\n",
       "      <td>17.0</td>\n",
       "      <td>11.0</td>\n",
       "      <td>0.0</td>\n",
       "    </tr>\n",
       "    <tr>\n",
       "      <th>12</th>\n",
       "      <td>13</td>\n",
       "      <td>13</td>\n",
       "      <td>D</td>\n",
       "      <td>POLYGON ((-85.6913 38.1467, -85.69119999999999...</td>\n",
       "      <td>15.0</td>\n",
       "      <td>11.0</td>\n",
       "      <td>0.0</td>\n",
       "    </tr>\n",
       "    <tr>\n",
       "      <th>13</th>\n",
       "      <td>14</td>\n",
       "      <td>14</td>\n",
       "      <td>D</td>\n",
       "      <td>POLYGON ((-85.8507 38.144, -85.85080000000001 ...</td>\n",
       "      <td>27.0</td>\n",
       "      <td>14.0</td>\n",
       "      <td>0.0</td>\n",
       "    </tr>\n",
       "    <tr>\n",
       "      <th>14</th>\n",
       "      <td>15</td>\n",
       "      <td>15</td>\n",
       "      <td>D</td>\n",
       "      <td>POLYGON ((-85.74339999999999 38.2217, -85.7433...</td>\n",
       "      <td>33.0</td>\n",
       "      <td>5.0</td>\n",
       "      <td>0.0</td>\n",
       "    </tr>\n",
       "    <tr>\n",
       "      <th>15</th>\n",
       "      <td>16</td>\n",
       "      <td>16</td>\n",
       "      <td>R</td>\n",
       "      <td>POLYGON ((-85.5145 38.311, -85.5164 38.3101, -...</td>\n",
       "      <td>7.0</td>\n",
       "      <td>3.0</td>\n",
       "      <td>0.0</td>\n",
       "    </tr>\n",
       "    <tr>\n",
       "      <th>16</th>\n",
       "      <td>17</td>\n",
       "      <td>17</td>\n",
       "      <td>R</td>\n",
       "      <td>POLYGON ((-85.5145 38.311, -85.5124 38.3098, -...</td>\n",
       "      <td>11.0</td>\n",
       "      <td>4.0</td>\n",
       "      <td>0.0</td>\n",
       "    </tr>\n",
       "    <tr>\n",
       "      <th>17</th>\n",
       "      <td>18</td>\n",
       "      <td>18</td>\n",
       "      <td>R</td>\n",
       "      <td>POLYGON ((-85.54949999999999 38.2567, -85.5496...</td>\n",
       "      <td>16.0</td>\n",
       "      <td>3.0</td>\n",
       "      <td>0.0</td>\n",
       "    </tr>\n",
       "    <tr>\n",
       "      <th>18</th>\n",
       "      <td>19</td>\n",
       "      <td>19</td>\n",
       "      <td>R</td>\n",
       "      <td>POLYGON ((-85.4764 38.2898, -85.47629999999999...</td>\n",
       "      <td>9.0</td>\n",
       "      <td>2.0</td>\n",
       "      <td>0.0</td>\n",
       "    </tr>\n",
       "    <tr>\n",
       "      <th>19</th>\n",
       "      <td>20</td>\n",
       "      <td>20</td>\n",
       "      <td>R</td>\n",
       "      <td>POLYGON ((-85.4147 38.2038, -85.4152 38.2003, ...</td>\n",
       "      <td>12.0</td>\n",
       "      <td>2.0</td>\n",
       "      <td>0.0</td>\n",
       "    </tr>\n",
       "    <tr>\n",
       "      <th>20</th>\n",
       "      <td>21</td>\n",
       "      <td>21</td>\n",
       "      <td>D</td>\n",
       "      <td>POLYGON ((-85.6964 38.1816, -85.69750000000001...</td>\n",
       "      <td>36.0</td>\n",
       "      <td>13.0</td>\n",
       "      <td>0.0</td>\n",
       "    </tr>\n",
       "    <tr>\n",
       "      <th>21</th>\n",
       "      <td>22</td>\n",
       "      <td>22</td>\n",
       "      <td>R</td>\n",
       "      <td>POLYGON ((-85.6155 38.1925, -85.61539999999999...</td>\n",
       "      <td>11.0</td>\n",
       "      <td>6.0</td>\n",
       "      <td>0.0</td>\n",
       "    </tr>\n",
       "    <tr>\n",
       "      <th>22</th>\n",
       "      <td>23</td>\n",
       "      <td>23</td>\n",
       "      <td>R</td>\n",
       "      <td>POLYGON ((-85.6237 38.0796, -85.625 38.0797, -...</td>\n",
       "      <td>12.0</td>\n",
       "      <td>1.0</td>\n",
       "      <td>0.0</td>\n",
       "    </tr>\n",
       "    <tr>\n",
       "      <th>23</th>\n",
       "      <td>24</td>\n",
       "      <td>24</td>\n",
       "      <td>D</td>\n",
       "      <td>POLYGON ((-85.6228 38.1689, -85.6228 38.1688, ...</td>\n",
       "      <td>24.0</td>\n",
       "      <td>10.0</td>\n",
       "      <td>0.0</td>\n",
       "    </tr>\n",
       "    <tr>\n",
       "      <th>24</th>\n",
       "      <td>25</td>\n",
       "      <td>25</td>\n",
       "      <td>D</td>\n",
       "      <td>POLYGON ((-85.7717 38.1487, -85.7719 38.1486, ...</td>\n",
       "      <td>18.0</td>\n",
       "      <td>7.0</td>\n",
       "      <td>1.0</td>\n",
       "    </tr>\n",
       "    <tr>\n",
       "      <th>25</th>\n",
       "      <td>26</td>\n",
       "      <td>26</td>\n",
       "      <td>D</td>\n",
       "      <td>POLYGON ((-85.63930000000001 38.2516, -85.6392...</td>\n",
       "      <td>29.0</td>\n",
       "      <td>6.0</td>\n",
       "      <td>0.0</td>\n",
       "    </tr>\n",
       "  </tbody>\n",
       "</table>\n",
       "</div>"
      ],
      "text/plain": [
       "    objectid  coundist coun_party  \\\n",
       "0          1         1          D   \n",
       "1          2         2          D   \n",
       "2          3         3          D   \n",
       "3          4         4          D   \n",
       "4          5         5          D   \n",
       "5          6         6          D   \n",
       "6          7         7          R   \n",
       "7          8         8          D   \n",
       "8          9         9          D   \n",
       "9         10        10          D   \n",
       "10        11        11          R   \n",
       "11        12        12          D   \n",
       "12        13        13          D   \n",
       "13        14        14          D   \n",
       "14        15        15          D   \n",
       "15        16        16          R   \n",
       "16        17        17          R   \n",
       "17        18        18          R   \n",
       "18        19        19          R   \n",
       "19        20        20          R   \n",
       "20        21        21          D   \n",
       "21        22        22          R   \n",
       "22        23        23          R   \n",
       "23        24        24          D   \n",
       "24        25        25          D   \n",
       "25        26        26          D   \n",
       "\n",
       "                                             geometry     0     1    2  \n",
       "0   POLYGON ((-85.80240000000001 38.2497, -85.8024...  20.0   5.0  0.0  \n",
       "1   POLYGON ((-85.62609999999999 38.1862, -85.6262...  23.0  12.0  0.0  \n",
       "2   POLYGON ((-85.78360000000001 38.205, -85.78360...  46.0  17.0  1.0  \n",
       "3   POLYGON ((-85.7354 38.2704, -85.73 38.2636, -8...  80.0  13.0  0.0  \n",
       "4   POLYGON ((-85.7612 38.2721, -85.7718 38.2634, ...  37.0   6.0  0.0  \n",
       "5   POLYGON ((-85.7516 38.2201, -85.7517 38.2198, ...  47.0  12.0  0.0  \n",
       "6   POLYGON ((-85.59269999999999 38.3004, -85.5925...  11.0   3.0  1.0  \n",
       "7   POLYGON ((-85.6583 38.2222, -85.65819999999999...  32.0   2.0  0.0  \n",
       "8   POLYGON ((-85.63930000000001 38.2516, -85.6395...  28.0   1.0  0.0  \n",
       "9   POLYGON ((-85.6713 38.2113, -85.6712 38.2112, ...  19.0   3.0  0.0  \n",
       "10  POLYGON ((-85.5842 38.174, -85.5843 38.1741, -...  10.0   6.0  1.0  \n",
       "11  POLYGON ((-85.8349 38.176, -85.8348 38.176, -8...  17.0  11.0  0.0  \n",
       "12  POLYGON ((-85.6913 38.1467, -85.69119999999999...  15.0  11.0  0.0  \n",
       "13  POLYGON ((-85.8507 38.144, -85.85080000000001 ...  27.0  14.0  0.0  \n",
       "14  POLYGON ((-85.74339999999999 38.2217, -85.7433...  33.0   5.0  0.0  \n",
       "15  POLYGON ((-85.5145 38.311, -85.5164 38.3101, -...   7.0   3.0  0.0  \n",
       "16  POLYGON ((-85.5145 38.311, -85.5124 38.3098, -...  11.0   4.0  0.0  \n",
       "17  POLYGON ((-85.54949999999999 38.2567, -85.5496...  16.0   3.0  0.0  \n",
       "18  POLYGON ((-85.4764 38.2898, -85.47629999999999...   9.0   2.0  0.0  \n",
       "19  POLYGON ((-85.4147 38.2038, -85.4152 38.2003, ...  12.0   2.0  0.0  \n",
       "20  POLYGON ((-85.6964 38.1816, -85.69750000000001...  36.0  13.0  0.0  \n",
       "21  POLYGON ((-85.6155 38.1925, -85.61539999999999...  11.0   6.0  0.0  \n",
       "22  POLYGON ((-85.6237 38.0796, -85.625 38.0797, -...  12.0   1.0  0.0  \n",
       "23  POLYGON ((-85.6228 38.1689, -85.6228 38.1688, ...  24.0  10.0  0.0  \n",
       "24  POLYGON ((-85.7717 38.1487, -85.7719 38.1486, ...  18.0   7.0  1.0  \n",
       "25  POLYGON ((-85.63930000000001 38.2516, -85.6392...  29.0   6.0  0.0  "
      ]
     },
     "execution_count": 28,
     "metadata": {},
     "output_type": "execute_result"
    }
   ],
   "source": [
    "distfatal.fillna(0)"
   ]
  },
  {
   "cell_type": "code",
   "execution_count": 29,
   "metadata": {},
   "outputs": [],
   "source": [
    "distfatal.columns = ['objectid','coundist','coun_party','geometry','no fatality','fatality','2xfatality']"
   ]
  },
  {
   "cell_type": "code",
   "execution_count": 30,
   "metadata": {},
   "outputs": [],
   "source": [
    "distfatal = distfatal.astype({\"no fatality\": int})"
   ]
  },
  {
   "cell_type": "code",
   "execution_count": 31,
   "metadata": {},
   "outputs": [],
   "source": [
    "distfatal = distfatal.astype({\"fatality\": int})"
   ]
  },
  {
   "cell_type": "code",
   "execution_count": 32,
   "metadata": {},
   "outputs": [],
   "source": [
    "distfatal = distfatal.fillna(0)"
   ]
  },
  {
   "cell_type": "code",
   "execution_count": 33,
   "metadata": {},
   "outputs": [],
   "source": [
    "distfatal = distfatal.astype({\"2xfatality\": int})"
   ]
  },
  {
   "cell_type": "code",
   "execution_count": 34,
   "metadata": {},
   "outputs": [
    {
     "data": {
      "text/plain": [
       "pandas.core.frame.DataFrame"
      ]
     },
     "execution_count": 34,
     "metadata": {},
     "output_type": "execute_result"
    }
   ],
   "source": [
    "type(distfatal)"
   ]
  },
  {
   "cell_type": "markdown",
   "metadata": {},
   "source": [
    "##### convert to geodataframe and reproject data to web-map ready EPSG:4326"
   ]
  },
  {
   "cell_type": "code",
   "execution_count": 35,
   "metadata": {},
   "outputs": [
    {
     "data": {
      "text/plain": [
       "geopandas.geodataframe.GeoDataFrame"
      ]
     },
     "execution_count": 35,
     "metadata": {},
     "output_type": "execute_result"
    }
   ],
   "source": [
    "crs = {'init': 'epsg:4326'}\n",
    "gdf = gpd.GeoDataFrame(distfatal, crs=crs)\n",
    "type(gdf)"
   ]
  },
  {
   "cell_type": "code",
   "execution_count": 36,
   "metadata": {},
   "outputs": [
    {
     "data": {
      "text/html": [
       "<div>\n",
       "<style scoped>\n",
       "    .dataframe tbody tr th:only-of-type {\n",
       "        vertical-align: middle;\n",
       "    }\n",
       "\n",
       "    .dataframe tbody tr th {\n",
       "        vertical-align: top;\n",
       "    }\n",
       "\n",
       "    .dataframe thead th {\n",
       "        text-align: right;\n",
       "    }\n",
       "</style>\n",
       "<table border=\"1\" class=\"dataframe\">\n",
       "  <thead>\n",
       "    <tr style=\"text-align: right;\">\n",
       "      <th></th>\n",
       "      <th>objectid</th>\n",
       "      <th>coundist</th>\n",
       "      <th>coun_party</th>\n",
       "      <th>geometry</th>\n",
       "      <th>no fatality</th>\n",
       "      <th>fatality</th>\n",
       "      <th>2xfatality</th>\n",
       "    </tr>\n",
       "  </thead>\n",
       "  <tbody>\n",
       "    <tr>\n",
       "      <th>0</th>\n",
       "      <td>1</td>\n",
       "      <td>1</td>\n",
       "      <td>D</td>\n",
       "      <td>POLYGON ((-85.80240000000001 38.2497, -85.8024...</td>\n",
       "      <td>20</td>\n",
       "      <td>5</td>\n",
       "      <td>0</td>\n",
       "    </tr>\n",
       "    <tr>\n",
       "      <th>1</th>\n",
       "      <td>2</td>\n",
       "      <td>2</td>\n",
       "      <td>D</td>\n",
       "      <td>POLYGON ((-85.62609999999999 38.1862, -85.6262...</td>\n",
       "      <td>23</td>\n",
       "      <td>12</td>\n",
       "      <td>0</td>\n",
       "    </tr>\n",
       "    <tr>\n",
       "      <th>2</th>\n",
       "      <td>3</td>\n",
       "      <td>3</td>\n",
       "      <td>D</td>\n",
       "      <td>POLYGON ((-85.78360000000001 38.205, -85.78360...</td>\n",
       "      <td>46</td>\n",
       "      <td>17</td>\n",
       "      <td>1</td>\n",
       "    </tr>\n",
       "    <tr>\n",
       "      <th>3</th>\n",
       "      <td>4</td>\n",
       "      <td>4</td>\n",
       "      <td>D</td>\n",
       "      <td>POLYGON ((-85.7354 38.2704, -85.73 38.2636, -8...</td>\n",
       "      <td>80</td>\n",
       "      <td>13</td>\n",
       "      <td>0</td>\n",
       "    </tr>\n",
       "    <tr>\n",
       "      <th>4</th>\n",
       "      <td>5</td>\n",
       "      <td>5</td>\n",
       "      <td>D</td>\n",
       "      <td>POLYGON ((-85.7612 38.2721, -85.7718 38.2634, ...</td>\n",
       "      <td>37</td>\n",
       "      <td>6</td>\n",
       "      <td>0</td>\n",
       "    </tr>\n",
       "    <tr>\n",
       "      <th>5</th>\n",
       "      <td>6</td>\n",
       "      <td>6</td>\n",
       "      <td>D</td>\n",
       "      <td>POLYGON ((-85.7516 38.2201, -85.7517 38.2198, ...</td>\n",
       "      <td>47</td>\n",
       "      <td>12</td>\n",
       "      <td>0</td>\n",
       "    </tr>\n",
       "    <tr>\n",
       "      <th>6</th>\n",
       "      <td>7</td>\n",
       "      <td>7</td>\n",
       "      <td>R</td>\n",
       "      <td>POLYGON ((-85.59269999999999 38.3004, -85.5925...</td>\n",
       "      <td>11</td>\n",
       "      <td>3</td>\n",
       "      <td>1</td>\n",
       "    </tr>\n",
       "    <tr>\n",
       "      <th>7</th>\n",
       "      <td>8</td>\n",
       "      <td>8</td>\n",
       "      <td>D</td>\n",
       "      <td>POLYGON ((-85.6583 38.2222, -85.65819999999999...</td>\n",
       "      <td>32</td>\n",
       "      <td>2</td>\n",
       "      <td>0</td>\n",
       "    </tr>\n",
       "    <tr>\n",
       "      <th>8</th>\n",
       "      <td>9</td>\n",
       "      <td>9</td>\n",
       "      <td>D</td>\n",
       "      <td>POLYGON ((-85.63930000000001 38.2516, -85.6395...</td>\n",
       "      <td>28</td>\n",
       "      <td>1</td>\n",
       "      <td>0</td>\n",
       "    </tr>\n",
       "    <tr>\n",
       "      <th>9</th>\n",
       "      <td>10</td>\n",
       "      <td>10</td>\n",
       "      <td>D</td>\n",
       "      <td>POLYGON ((-85.6713 38.2113, -85.6712 38.2112, ...</td>\n",
       "      <td>19</td>\n",
       "      <td>3</td>\n",
       "      <td>0</td>\n",
       "    </tr>\n",
       "    <tr>\n",
       "      <th>10</th>\n",
       "      <td>11</td>\n",
       "      <td>11</td>\n",
       "      <td>R</td>\n",
       "      <td>POLYGON ((-85.5842 38.174, -85.5843 38.1741, -...</td>\n",
       "      <td>10</td>\n",
       "      <td>6</td>\n",
       "      <td>1</td>\n",
       "    </tr>\n",
       "    <tr>\n",
       "      <th>11</th>\n",
       "      <td>12</td>\n",
       "      <td>12</td>\n",
       "      <td>D</td>\n",
       "      <td>POLYGON ((-85.8349 38.176, -85.8348 38.176, -8...</td>\n",
       "      <td>17</td>\n",
       "      <td>11</td>\n",
       "      <td>0</td>\n",
       "    </tr>\n",
       "    <tr>\n",
       "      <th>12</th>\n",
       "      <td>13</td>\n",
       "      <td>13</td>\n",
       "      <td>D</td>\n",
       "      <td>POLYGON ((-85.6913 38.1467, -85.69119999999999...</td>\n",
       "      <td>15</td>\n",
       "      <td>11</td>\n",
       "      <td>0</td>\n",
       "    </tr>\n",
       "    <tr>\n",
       "      <th>13</th>\n",
       "      <td>14</td>\n",
       "      <td>14</td>\n",
       "      <td>D</td>\n",
       "      <td>POLYGON ((-85.8507 38.144, -85.85080000000001 ...</td>\n",
       "      <td>27</td>\n",
       "      <td>14</td>\n",
       "      <td>0</td>\n",
       "    </tr>\n",
       "    <tr>\n",
       "      <th>14</th>\n",
       "      <td>15</td>\n",
       "      <td>15</td>\n",
       "      <td>D</td>\n",
       "      <td>POLYGON ((-85.74339999999999 38.2217, -85.7433...</td>\n",
       "      <td>33</td>\n",
       "      <td>5</td>\n",
       "      <td>0</td>\n",
       "    </tr>\n",
       "    <tr>\n",
       "      <th>15</th>\n",
       "      <td>16</td>\n",
       "      <td>16</td>\n",
       "      <td>R</td>\n",
       "      <td>POLYGON ((-85.5145 38.311, -85.5164 38.3101, -...</td>\n",
       "      <td>7</td>\n",
       "      <td>3</td>\n",
       "      <td>0</td>\n",
       "    </tr>\n",
       "    <tr>\n",
       "      <th>16</th>\n",
       "      <td>17</td>\n",
       "      <td>17</td>\n",
       "      <td>R</td>\n",
       "      <td>POLYGON ((-85.5145 38.311, -85.5124 38.3098, -...</td>\n",
       "      <td>11</td>\n",
       "      <td>4</td>\n",
       "      <td>0</td>\n",
       "    </tr>\n",
       "    <tr>\n",
       "      <th>17</th>\n",
       "      <td>18</td>\n",
       "      <td>18</td>\n",
       "      <td>R</td>\n",
       "      <td>POLYGON ((-85.54949999999999 38.2567, -85.5496...</td>\n",
       "      <td>16</td>\n",
       "      <td>3</td>\n",
       "      <td>0</td>\n",
       "    </tr>\n",
       "    <tr>\n",
       "      <th>18</th>\n",
       "      <td>19</td>\n",
       "      <td>19</td>\n",
       "      <td>R</td>\n",
       "      <td>POLYGON ((-85.4764 38.2898, -85.47629999999999...</td>\n",
       "      <td>9</td>\n",
       "      <td>2</td>\n",
       "      <td>0</td>\n",
       "    </tr>\n",
       "    <tr>\n",
       "      <th>19</th>\n",
       "      <td>20</td>\n",
       "      <td>20</td>\n",
       "      <td>R</td>\n",
       "      <td>POLYGON ((-85.4147 38.2038, -85.4152 38.2003, ...</td>\n",
       "      <td>12</td>\n",
       "      <td>2</td>\n",
       "      <td>0</td>\n",
       "    </tr>\n",
       "    <tr>\n",
       "      <th>20</th>\n",
       "      <td>21</td>\n",
       "      <td>21</td>\n",
       "      <td>D</td>\n",
       "      <td>POLYGON ((-85.6964 38.1816, -85.69750000000001...</td>\n",
       "      <td>36</td>\n",
       "      <td>13</td>\n",
       "      <td>0</td>\n",
       "    </tr>\n",
       "    <tr>\n",
       "      <th>21</th>\n",
       "      <td>22</td>\n",
       "      <td>22</td>\n",
       "      <td>R</td>\n",
       "      <td>POLYGON ((-85.6155 38.1925, -85.61539999999999...</td>\n",
       "      <td>11</td>\n",
       "      <td>6</td>\n",
       "      <td>0</td>\n",
       "    </tr>\n",
       "    <tr>\n",
       "      <th>22</th>\n",
       "      <td>23</td>\n",
       "      <td>23</td>\n",
       "      <td>R</td>\n",
       "      <td>POLYGON ((-85.6237 38.0796, -85.625 38.0797, -...</td>\n",
       "      <td>12</td>\n",
       "      <td>1</td>\n",
       "      <td>0</td>\n",
       "    </tr>\n",
       "    <tr>\n",
       "      <th>23</th>\n",
       "      <td>24</td>\n",
       "      <td>24</td>\n",
       "      <td>D</td>\n",
       "      <td>POLYGON ((-85.6228 38.1689, -85.6228 38.1688, ...</td>\n",
       "      <td>24</td>\n",
       "      <td>10</td>\n",
       "      <td>0</td>\n",
       "    </tr>\n",
       "    <tr>\n",
       "      <th>24</th>\n",
       "      <td>25</td>\n",
       "      <td>25</td>\n",
       "      <td>D</td>\n",
       "      <td>POLYGON ((-85.7717 38.1487, -85.7719 38.1486, ...</td>\n",
       "      <td>18</td>\n",
       "      <td>7</td>\n",
       "      <td>1</td>\n",
       "    </tr>\n",
       "    <tr>\n",
       "      <th>25</th>\n",
       "      <td>26</td>\n",
       "      <td>26</td>\n",
       "      <td>D</td>\n",
       "      <td>POLYGON ((-85.63930000000001 38.2516, -85.6392...</td>\n",
       "      <td>29</td>\n",
       "      <td>6</td>\n",
       "      <td>0</td>\n",
       "    </tr>\n",
       "  </tbody>\n",
       "</table>\n",
       "</div>"
      ],
      "text/plain": [
       "    objectid  coundist coun_party  \\\n",
       "0          1         1          D   \n",
       "1          2         2          D   \n",
       "2          3         3          D   \n",
       "3          4         4          D   \n",
       "4          5         5          D   \n",
       "5          6         6          D   \n",
       "6          7         7          R   \n",
       "7          8         8          D   \n",
       "8          9         9          D   \n",
       "9         10        10          D   \n",
       "10        11        11          R   \n",
       "11        12        12          D   \n",
       "12        13        13          D   \n",
       "13        14        14          D   \n",
       "14        15        15          D   \n",
       "15        16        16          R   \n",
       "16        17        17          R   \n",
       "17        18        18          R   \n",
       "18        19        19          R   \n",
       "19        20        20          R   \n",
       "20        21        21          D   \n",
       "21        22        22          R   \n",
       "22        23        23          R   \n",
       "23        24        24          D   \n",
       "24        25        25          D   \n",
       "25        26        26          D   \n",
       "\n",
       "                                             geometry  no fatality  fatality  \\\n",
       "0   POLYGON ((-85.80240000000001 38.2497, -85.8024...           20         5   \n",
       "1   POLYGON ((-85.62609999999999 38.1862, -85.6262...           23        12   \n",
       "2   POLYGON ((-85.78360000000001 38.205, -85.78360...           46        17   \n",
       "3   POLYGON ((-85.7354 38.2704, -85.73 38.2636, -8...           80        13   \n",
       "4   POLYGON ((-85.7612 38.2721, -85.7718 38.2634, ...           37         6   \n",
       "5   POLYGON ((-85.7516 38.2201, -85.7517 38.2198, ...           47        12   \n",
       "6   POLYGON ((-85.59269999999999 38.3004, -85.5925...           11         3   \n",
       "7   POLYGON ((-85.6583 38.2222, -85.65819999999999...           32         2   \n",
       "8   POLYGON ((-85.63930000000001 38.2516, -85.6395...           28         1   \n",
       "9   POLYGON ((-85.6713 38.2113, -85.6712 38.2112, ...           19         3   \n",
       "10  POLYGON ((-85.5842 38.174, -85.5843 38.1741, -...           10         6   \n",
       "11  POLYGON ((-85.8349 38.176, -85.8348 38.176, -8...           17        11   \n",
       "12  POLYGON ((-85.6913 38.1467, -85.69119999999999...           15        11   \n",
       "13  POLYGON ((-85.8507 38.144, -85.85080000000001 ...           27        14   \n",
       "14  POLYGON ((-85.74339999999999 38.2217, -85.7433...           33         5   \n",
       "15  POLYGON ((-85.5145 38.311, -85.5164 38.3101, -...            7         3   \n",
       "16  POLYGON ((-85.5145 38.311, -85.5124 38.3098, -...           11         4   \n",
       "17  POLYGON ((-85.54949999999999 38.2567, -85.5496...           16         3   \n",
       "18  POLYGON ((-85.4764 38.2898, -85.47629999999999...            9         2   \n",
       "19  POLYGON ((-85.4147 38.2038, -85.4152 38.2003, ...           12         2   \n",
       "20  POLYGON ((-85.6964 38.1816, -85.69750000000001...           36        13   \n",
       "21  POLYGON ((-85.6155 38.1925, -85.61539999999999...           11         6   \n",
       "22  POLYGON ((-85.6237 38.0796, -85.625 38.0797, -...           12         1   \n",
       "23  POLYGON ((-85.6228 38.1689, -85.6228 38.1688, ...           24        10   \n",
       "24  POLYGON ((-85.7717 38.1487, -85.7719 38.1486, ...           18         7   \n",
       "25  POLYGON ((-85.63930000000001 38.2516, -85.6392...           29         6   \n",
       "\n",
       "    2xfatality  \n",
       "0            0  \n",
       "1            0  \n",
       "2            1  \n",
       "3            0  \n",
       "4            0  \n",
       "5            0  \n",
       "6            1  \n",
       "7            0  \n",
       "8            0  \n",
       "9            0  \n",
       "10           1  \n",
       "11           0  \n",
       "12           0  \n",
       "13           0  \n",
       "14           0  \n",
       "15           0  \n",
       "16           0  \n",
       "17           0  \n",
       "18           0  \n",
       "19           0  \n",
       "20           0  \n",
       "21           0  \n",
       "22           0  \n",
       "23           0  \n",
       "24           1  \n",
       "25           0  "
      ]
     },
     "execution_count": 36,
     "metadata": {},
     "output_type": "execute_result"
    }
   ],
   "source": [
    "gdf"
   ]
  },
  {
   "cell_type": "code",
   "execution_count": 37,
   "metadata": {},
   "outputs": [],
   "source": [
    "with open('./project-files/districts-fatal-4326.json', 'w') as f:\n",
    "    f.write(gdf.to_json())"
   ]
  },
  {
   "cell_type": "markdown",
   "metadata": {},
   "source": [
    "##### visualize the data (are we mapping yet?), but first we'll need to import some plotting tools. "
   ]
  },
  {
   "cell_type": "code",
   "execution_count": 38,
   "metadata": {},
   "outputs": [],
   "source": [
    "# import plotter \n",
    "%matplotlib inline\n",
    "\n",
    "import matplotlib.pyplot as plt\n",
    "# change default figsize\n",
    "plt.rcParams['figure.figsize'] = (30, 24)"
   ]
  },
  {
   "cell_type": "code",
   "execution_count": 39,
   "metadata": {},
   "outputs": [
    {
     "data": {
      "image/png": "[encoded data removed]",
      "text/plain": [
       "<Figure size 432x288 with 1 Axes>"
      ]
     },
     "metadata": {
      "needs_background": "light"
     },
     "output_type": "display_data"
    }
   ],
   "source": [
    "fig, ax = plt.subplots()\n",
    " \n",
    "base_color = '#f0f0f0'\n",
    "border_color = base_color\n",
    " \n",
    "collisions.plot(ax=ax, color='red', alpha=0.1, zorder=0, label='stops');\n",
    "# gdf.plot(ax=ax, color='red', alpha=0.1, zorder=0, label='collision');  #low opacity adds a heatmap effect at this scale.  unintentional\n",
    " \n",
    "ax.set(title=\"pedestrian collisions\",\n",
    "       xlabel=\"X coordinates\",\n",
    "       ylabel=\"Y coordinates\") \n",
    "ax.legend();"
   ]
  },
  {
   "cell_type": "markdown",
   "metadata": {},
   "source": [
    "#### its alive!  bring in some other data to see if everything appears to be in order"
   ]
  },
  {
   "cell_type": "markdown",
   "metadata": {},
   "source": [
    "##### first double-check the CRS on the data"
   ]
  },
  {
   "cell_type": "code",
   "execution_count": 40,
   "metadata": {},
   "outputs": [],
   "source": [
    "#export as geojson \n",
    "### throws an error unless file is deleted prior\n",
    "gdf.to_file(r'./data/districts-fatal.geojson', driver=\"GeoJSON\")"
   ]
  },
  {
   "cell_type": "code",
   "execution_count": 41,
   "metadata": {},
   "outputs": [],
   "source": [
    "#export as geojson \n",
    "### throws an error unless file is deleted prior\n",
    "collisions.to_file(r'./data/collisions.geojson', driver=\"GeoJSON\")"
   ]
  },
  {
   "cell_type": "code",
   "execution_count": 42,
   "metadata": {},
   "outputs": [
    {
     "name": "stdout",
     "output_type": "stream",
     "text": [
      "collisions.geojson\n",
      "council-districts.json\n",
      "districts-fatal.geojson\n"
     ]
    }
   ],
   "source": [
    "#double check the data\n",
    "for root, dirs, files in os.walk('./data/'):\n",
    "    for filename in files:\n",
    "        print(filename)"
   ]
  },
  {
   "cell_type": "markdown",
   "metadata": {},
   "source": [
    "##### export notebook to HTML"
   ]
  },
  {
   "cell_type": "code",
   "execution_count": 43,
   "metadata": {},
   "outputs": [
    {
     "name": "stderr",
     "output_type": "stream",
     "text": [
      "[NbConvertApp] Converting notebook lou-collisions-wrangling.ipynb to html\n",
      "[NbConvertApp] Writing 399639 bytes to lou-collisions-wrangling.html\n"
     ]
    }
   ],
   "source": [
    "!jupyter nbconvert --to html lou-collisions-wrangling.ipynb"
   ]
  }
 ],
 "metadata": {
  "kernelspec": {
   "display_name": "Python 3",
   "language": "python",
   "name": "python3"
  },
  "language_info": {
   "codemirror_mode": {
    "name": "ipython",
    "version": 3
   },
   "file_extension": ".py",
   "mimetype": "text/x-python",
   "name": "python",
   "nbconvert_exporter": "python",
   "pygments_lexer": "ipython3",
   "version": "3.7.3"
  }
 },
 "nbformat": 4,
 "nbformat_minor": 2
}
